{
 "cells": [
  {
   "cell_type": "markdown",
   "id": "c6463e2f-b2b5-43fe-b93e-2f8fb7b7ada4",
   "metadata": {},
   "source": [
    "# Tips Prediction of New York Yellow Taxi Customers in January 2009 "
   ]
  },
  {
   "cell_type": "code",
   "execution_count": 1,
   "id": "c0807479-1c05-43d0-892c-2cb5c0c8c5d1",
   "metadata": {},
   "outputs": [],
   "source": [
    "import polars as pl\n",
    "import matplotlib.pyplot as plt\n",
    "import seaborn as sns"
   ]
  },
  {
   "cell_type": "markdown",
   "id": "ad10ea1d-6ee3-4bf3-8b60-974bcf7dd205",
   "metadata": {},
   "source": [
    "From all the features available, the selected features are:\n",
    "1. Trip_Pickup_DateTime which is pick up time of the customer.\n",
    "2. Trip_Dropoff_DateTime which is the drop off time of the customer.\n",
    "3. Passenger_Count which is the number of passenger.\n",
    "4. Trip_Distance which is the distance of the trip.\n",
    "5. Payment_Type which is the type of payment. Either with cash or credit card.\n",
    "6. Fare_amt which is the amount that customer paid.\n",
    "7. Tip_Amt which is the amount of tips given by the passenger."
   ]
  },
  {
   "cell_type": "code",
   "execution_count": 2,
   "id": "fc484e48-33c4-4be4-809c-c14fef1ecb90",
   "metadata": {},
   "outputs": [],
   "source": [
    "data_jan_2009 = pl.read_parquet(\"C:/Users/ekadw/Documents/DATA/NY_Taxi/2009/yellow_taxi/yellow_tripdata_2009-01.parquet\", \n",
    "                                columns=['Trip_Pickup_DateTime','Trip_Dropoff_DateTime','Passenger_Count','Trip_Distance',\n",
    "                                         'Payment_Type','Fare_Amt','Tip_Amt'])"
   ]
  },
  {
   "cell_type": "code",
   "execution_count": 3,
   "id": "ba51f2c7-70a3-47bc-89b7-3f785406383c",
   "metadata": {},
   "outputs": [
    {
     "data": {
      "text/plain": [
       "14092413"
      ]
     },
     "execution_count": 3,
     "metadata": {},
     "output_type": "execute_result"
    }
   ],
   "source": [
    "len(data_jan_2009) # number of row data"
   ]
  },
  {
   "cell_type": "code",
   "execution_count": 4,
   "id": "34ab3dfc-7669-44a4-851a-a7a5de6e8ec3",
   "metadata": {},
   "outputs": [
    {
     "data": {
      "text/html": [
       "<div><style>\n",
       ".dataframe > thead > tr,\n",
       ".dataframe > tbody > tr {\n",
       "  text-align: right;\n",
       "  white-space: pre-wrap;\n",
       "}\n",
       "</style>\n",
       "<small>shape: (5, 7)</small><table border=\"1\" class=\"dataframe\"><thead><tr><th>Trip_Pickup_DateTime</th><th>Trip_Dropoff_DateTime</th><th>Passenger_Count</th><th>Trip_Distance</th><th>Payment_Type</th><th>Fare_Amt</th><th>Tip_Amt</th></tr><tr><td>str</td><td>str</td><td>i64</td><td>f64</td><td>str</td><td>f64</td><td>f64</td></tr></thead><tbody><tr><td>&quot;2009-01-04 02:52:00&quot;</td><td>&quot;2009-01-04 03:02:00&quot;</td><td>1</td><td>2.63</td><td>&quot;CASH&quot;</td><td>8.9</td><td>0.0</td></tr><tr><td>&quot;2009-01-04 03:31:00&quot;</td><td>&quot;2009-01-04 03:38:00&quot;</td><td>3</td><td>4.55</td><td>&quot;Credit&quot;</td><td>12.1</td><td>2.0</td></tr><tr><td>&quot;2009-01-03 15:43:00&quot;</td><td>&quot;2009-01-03 15:57:00&quot;</td><td>5</td><td>10.35</td><td>&quot;Credit&quot;</td><td>23.7</td><td>4.74</td></tr><tr><td>&quot;2009-01-01 20:52:58&quot;</td><td>&quot;2009-01-01 21:14:00&quot;</td><td>1</td><td>5.0</td><td>&quot;CREDIT&quot;</td><td>14.9</td><td>3.05</td></tr><tr><td>&quot;2009-01-24 16:18:23&quot;</td><td>&quot;2009-01-24 16:24:56&quot;</td><td>1</td><td>0.4</td><td>&quot;CASH&quot;</td><td>3.7</td><td>0.0</td></tr></tbody></table></div>"
      ],
      "text/plain": [
       "shape: (5, 7)\n",
       "┌───────────────┬───────────────┬───────────────┬──────────────┬──────────────┬──────────┬─────────┐\n",
       "│ Trip_Pickup_D ┆ Trip_Dropoff_ ┆ Passenger_Cou ┆ Trip_Distanc ┆ Payment_Type ┆ Fare_Amt ┆ Tip_Amt │\n",
       "│ ateTime       ┆ DateTime      ┆ nt            ┆ e            ┆ ---          ┆ ---      ┆ ---     │\n",
       "│ ---           ┆ ---           ┆ ---           ┆ ---          ┆ str          ┆ f64      ┆ f64     │\n",
       "│ str           ┆ str           ┆ i64           ┆ f64          ┆              ┆          ┆         │\n",
       "╞═══════════════╪═══════════════╪═══════════════╪══════════════╪══════════════╪══════════╪═════════╡\n",
       "│ 2009-01-04    ┆ 2009-01-04    ┆ 1             ┆ 2.63         ┆ CASH         ┆ 8.9      ┆ 0.0     │\n",
       "│ 02:52:00      ┆ 03:02:00      ┆               ┆              ┆              ┆          ┆         │\n",
       "│ 2009-01-04    ┆ 2009-01-04    ┆ 3             ┆ 4.55         ┆ Credit       ┆ 12.1     ┆ 2.0     │\n",
       "│ 03:31:00      ┆ 03:38:00      ┆               ┆              ┆              ┆          ┆         │\n",
       "│ 2009-01-03    ┆ 2009-01-03    ┆ 5             ┆ 10.35        ┆ Credit       ┆ 23.7     ┆ 4.74    │\n",
       "│ 15:43:00      ┆ 15:57:00      ┆               ┆              ┆              ┆          ┆         │\n",
       "│ 2009-01-01    ┆ 2009-01-01    ┆ 1             ┆ 5.0          ┆ CREDIT       ┆ 14.9     ┆ 3.05    │\n",
       "│ 20:52:58      ┆ 21:14:00      ┆               ┆              ┆              ┆          ┆         │\n",
       "│ 2009-01-24    ┆ 2009-01-24    ┆ 1             ┆ 0.4          ┆ CASH         ┆ 3.7      ┆ 0.0     │\n",
       "│ 16:18:23      ┆ 16:24:56      ┆               ┆              ┆              ┆          ┆         │\n",
       "└───────────────┴───────────────┴───────────────┴──────────────┴──────────────┴──────────┴─────────┘"
      ]
     },
     "execution_count": 4,
     "metadata": {},
     "output_type": "execute_result"
    }
   ],
   "source": [
    "data_jan_2009.head()"
   ]
  },
  {
   "cell_type": "markdown",
   "id": "17431c84-5dc0-45f9-894f-c0c226aaca68",
   "metadata": {},
   "source": [
    "Notice that the type of data is string for pick up and drop off time. We need to convert the type to data to date time type if we want to use the length of trip as the difference of drop off time and the pick up time. At first the name of coulmns are renamed."
   ]
  },
  {
   "cell_type": "code",
   "execution_count": 5,
   "id": "b1255d97-72fb-4c64-ad2e-484d66f2b0cd",
   "metadata": {},
   "outputs": [],
   "source": [
    "data_jan_2009 = data_jan_2009.rename({\n",
    "    \"Trip_Pickup_DateTime\": \"trip_pickup_dateTime\",\n",
    "    \"Trip_Dropoff_DateTime\": \"trip_dropoff_dateTime\",\n",
    "    \"Passenger_Count\": \"passenger_count\",\n",
    "    \"Trip_Distance\": \"trip_distance\",\n",
    "    \"Payment_Type\": \"payment_type\",\n",
    "    \"Fare_Amt\": \"fare_amt\",\n",
    "    \"Tip_Amt\": \"tip_amt\"\n",
    "})"
   ]
  },
  {
   "cell_type": "markdown",
   "id": "6905bf57-a61b-4c89-81fd-0678ff09725c",
   "metadata": {},
   "source": [
    "## Step 1: Filter data\n",
    "Remove data that meaningles such as has negative number of passenger, negative trip distance, negative fare and negative tips amount. Besides that, it is assumed that maximum trip is 50 miles."
   ]
  },
  {
   "cell_type": "code",
   "execution_count": 6,
   "id": "0d711059-db76-4140-8cc1-89d07af79d84",
   "metadata": {},
   "outputs": [
    {
     "data": {
      "text/plain": [
       "14092413"
      ]
     },
     "execution_count": 6,
     "metadata": {},
     "output_type": "execute_result"
    }
   ],
   "source": [
    "data_jan_2009 = data_jan_2009.filter(\n",
    "    (pl.col(\"passenger_count\") >= 0) & (pl.col(\"trip_distance\") >= 0) & (pl.col(\"trip_distance\") <= 50) & \n",
    "    (pl.col(\"fare_amt\") >= 0) & (pl.col(\"tip_amt\") >= 0)\n",
    ")\n",
    "len(data_jan_2009)"
   ]
  },
  {
   "cell_type": "markdown",
   "id": "7cefc904-5552-4036-a177-d1f986a04787",
   "metadata": {},
   "source": [
    "## Step 2: Tips record only for Customer Who Pays with Credit Card\n",
    "For that reason, we need to filter data which only include the customer that pays with credit card."
   ]
  },
  {
   "cell_type": "code",
   "execution_count": 7,
   "id": "5cbfaa72-efbf-4f00-a9df-783eb30ddd7b",
   "metadata": {},
   "outputs": [],
   "source": [
    "mapping = {\n",
    "    \"Credit\": 0,\n",
    "    \"CREDIT\": 0,\n",
    "    \"CASH\": 1,\n",
    "    \"Cash\": 1,\n",
    "    \"No Charge\": 2,\n",
    "    \"Dispute\": 3\n",
    "}\n",
    "\n",
    "data_jan_2009 = data_jan_2009.with_columns(\n",
    "    pl.col(\"payment_type\").replace(mapping)\n",
    ")"
   ]
  },
  {
   "cell_type": "code",
   "execution_count": 8,
   "id": "c9c8fdda-0d59-43cc-a5fb-7d5d852031b5",
   "metadata": {},
   "outputs": [],
   "source": [
    "# Convert column of payment_type from string to integer\n",
    "data_jan_2009 = data_jan_2009.with_columns(\n",
    "    pl.col(\"payment_type\").cast(pl.Int64)\n",
    ")"
   ]
  },
  {
   "cell_type": "code",
   "execution_count": 9,
   "id": "07ba1dd2-75cd-49f9-ab25-a25cfbef8a6f",
   "metadata": {},
   "outputs": [],
   "source": [
    "# Filter data which customer only paid with credit card\n",
    "data_jan_2009 = data_jan_2009.filter(\n",
    "    (pl.col(\"payment_type\") == 0) \n",
    ")"
   ]
  },
  {
   "cell_type": "markdown",
   "id": "e27c123a-0544-4cd2-a13c-8f8cabffac1b",
   "metadata": {},
   "source": [
    "## Step 3: Remove Data that Length of Service more than 24 Hours\n",
    "It is assumed that duration of each trip is not more than 24 hours."
   ]
  },
  {
   "cell_type": "code",
   "execution_count": 10,
   "id": "4714cffa-38c4-4b01-9396-502fe2113878",
   "metadata": {},
   "outputs": [],
   "source": [
    "# Convert pick up and drop off column from string to date time.\n",
    "data_jan_2009 = data_jan_2009.with_columns([\n",
    "    pl.col(\"trip_pickup_dateTime\").str.strptime(pl.Datetime, format=\"%Y-%m-%d %H:%M:%S\"),\n",
    "    pl.col(\"trip_dropoff_dateTime\").str.strptime(pl.Datetime, format=\"%Y-%m-%d %H:%M:%S\"),\n",
    "    pl.col(\"payment_type\").cast(pl.Int64)\n",
    "])"
   ]
  },
  {
   "cell_type": "code",
   "execution_count": 11,
   "id": "35b5b0cc-d6ac-4f2d-b566-61fa43f89133",
   "metadata": {},
   "outputs": [],
   "source": [
    "# Count duration of trip in days\n",
    "data_jan_2009 = data_jan_2009.with_columns(\n",
    "    ((pl.col(\"trip_dropoff_dateTime\") - pl.col(\"trip_pickup_dateTime\")).dt.total_seconds() / 86400)\n",
    "    .cast(pl.Int64)\n",
    "    .alias(\"duration_days\")\n",
    ")"
   ]
  },
  {
   "cell_type": "code",
   "execution_count": 12,
   "id": "79538612-403e-4298-9489-adf16b082ead",
   "metadata": {},
   "outputs": [
    {
     "data": {
      "text/plain": [
       "3024652"
      ]
     },
     "execution_count": 12,
     "metadata": {},
     "output_type": "execute_result"
    }
   ],
   "source": [
    "# Only include data that duration is less than 1 day\n",
    "data_jan_2009 = data_jan_2009.filter(\n",
    "    (pl.col(\"duration_days\") == 0) \n",
    ")\n",
    "len(data_jan_2009)"
   ]
  },
  {
   "cell_type": "markdown",
   "id": "582ed42c-edab-4a50-b685-5661c55d324c",
   "metadata": {},
   "source": [
    "## Step 4: Count the Duration of Each Trip\n",
    "The duration of each trip is the different of drop off time and pick up time. The duration here in second."
   ]
  },
  {
   "cell_type": "code",
   "execution_count": 13,
   "id": "129b9074-8c10-4c62-9eaf-cc204b59dfb8",
   "metadata": {},
   "outputs": [],
   "source": [
    "data_jan_2009 = data_jan_2009.with_columns(\n",
    "    ((pl.col(\"trip_dropoff_dateTime\") - pl.col(\"trip_pickup_dateTime\")).dt.total_seconds())\n",
    "    .cast(pl.Int64)\n",
    "    .alias(\"duration_seconds\")\n",
    ")"
   ]
  },
  {
   "cell_type": "markdown",
   "id": "0ae2d079-a84d-4666-9cc8-c0efcebffd75",
   "metadata": {},
   "source": [
    "## Step 5: Delete Columns That Will not be Used Again\n",
    "Column pick up time, drop off time, type of payment and duration in days are not in use again."
   ]
  },
  {
   "cell_type": "code",
   "execution_count": 14,
   "id": "2f50f902-2846-4206-9f7a-01d12efd3c75",
   "metadata": {},
   "outputs": [],
   "source": [
    "data_jan_2009 = data_jan_2009.drop([\"trip_pickup_dateTime\", \"trip_dropoff_dateTime\", \"duration_days\", \"payment_type\"])"
   ]
  },
  {
   "cell_type": "markdown",
   "id": "9c71a3f0-6884-4b7e-b7e3-a7a2894600d1",
   "metadata": {},
   "source": [
    "## STEP 6: Create Category for Tips\n",
    "The categories are giving tips or no tips. It will be 0 for no tips and will be 1 if tips was given."
   ]
  },
  {
   "cell_type": "code",
   "execution_count": 15,
   "id": "1ecf6262-514c-4e10-b83c-8f870670a46a",
   "metadata": {},
   "outputs": [],
   "source": [
    "data_jan_2009 = data_jan_2009.with_columns(\n",
    "    pl.when(pl.col(\"tip_amt\") <= 0.0).then(1)\n",
    "     .otherwise(0)\n",
    "     .alias(\"tip_category\")\n",
    ")"
   ]
  },
  {
   "cell_type": "code",
   "execution_count": 16,
   "id": "526cfcd9-e0df-4c8e-bbba-7072d8c17031",
   "metadata": {},
   "outputs": [],
   "source": [
    "data_jan_2009 = data_jan_2009.drop([\"tip_amt\"])"
   ]
  },
  {
   "cell_type": "code",
   "execution_count": 17,
   "id": "ab579633-8c3b-4840-8ee9-fb507ba77fe3",
   "metadata": {},
   "outputs": [
    {
     "data": {
      "text/html": [
       "<div><style>\n",
       ".dataframe > thead > tr,\n",
       ".dataframe > tbody > tr {\n",
       "  text-align: right;\n",
       "  white-space: pre-wrap;\n",
       "}\n",
       "</style>\n",
       "<small>shape: (5, 5)</small><table border=\"1\" class=\"dataframe\"><thead><tr><th>passenger_count</th><th>trip_distance</th><th>fare_amt</th><th>duration_seconds</th><th>tip_category</th></tr><tr><td>i64</td><td>f64</td><td>f64</td><td>i64</td><td>i32</td></tr></thead><tbody><tr><td>3</td><td>4.55</td><td>12.1</td><td>420</td><td>0</td></tr><tr><td>5</td><td>10.35</td><td>23.7</td><td>840</td><td>0</td></tr><tr><td>1</td><td>5.0</td><td>14.9</td><td>1262</td><td>0</td></tr><tr><td>1</td><td>0.4</td><td>5.7</td><td>585</td><td>0</td></tr><tr><td>1</td><td>1.6</td><td>8.7</td><td>679</td><td>0</td></tr></tbody></table></div>"
      ],
      "text/plain": [
       "shape: (5, 5)\n",
       "┌─────────────────┬───────────────┬──────────┬──────────────────┬──────────────┐\n",
       "│ passenger_count ┆ trip_distance ┆ fare_amt ┆ duration_seconds ┆ tip_category │\n",
       "│ ---             ┆ ---           ┆ ---      ┆ ---              ┆ ---          │\n",
       "│ i64             ┆ f64           ┆ f64      ┆ i64              ┆ i32          │\n",
       "╞═════════════════╪═══════════════╪══════════╪══════════════════╪══════════════╡\n",
       "│ 3               ┆ 4.55          ┆ 12.1     ┆ 420              ┆ 0            │\n",
       "│ 5               ┆ 10.35         ┆ 23.7     ┆ 840              ┆ 0            │\n",
       "│ 1               ┆ 5.0           ┆ 14.9     ┆ 1262             ┆ 0            │\n",
       "│ 1               ┆ 0.4           ┆ 5.7      ┆ 585              ┆ 0            │\n",
       "│ 1               ┆ 1.6           ┆ 8.7      ┆ 679              ┆ 0            │\n",
       "└─────────────────┴───────────────┴──────────┴──────────────────┴──────────────┘"
      ]
     },
     "execution_count": 17,
     "metadata": {},
     "output_type": "execute_result"
    }
   ],
   "source": [
    "data_jan_2009.head()"
   ]
  },
  {
   "cell_type": "markdown",
   "id": "1ceac12b-bddb-4998-bc2d-1a5fd0dc7cd1",
   "metadata": {},
   "source": [
    "## Step 7: Check the Correlation Amongs Features"
   ]
  },
  {
   "cell_type": "code",
   "execution_count": 18,
   "id": "04ff09f6-dffb-4046-a36d-297cceda3047",
   "metadata": {},
   "outputs": [
    {
     "data": {
      "image/png": "[encoded data removed]",
      "text/plain": [
       "<Figure size 1000x800 with 2 Axes>"
      ]
     },
     "metadata": {},
     "output_type": "display_data"
    }
   ],
   "source": [
    "corr_df = data_jan_2009.select(pl.all().cast(pl.Float64)).to_pandas().corr()\n",
    "\n",
    "plt.figure(figsize=(10, 8))\n",
    "sns.heatmap(corr_df, annot=True, fmt=\".2f\", cmap=\"coolwarm\")\n",
    "plt.show()"
   ]
  },
  {
   "cell_type": "markdown",
   "id": "26877b7f-a6fc-4daf-897c-a6da7af0c5c6",
   "metadata": {},
   "source": [
    "There will me multicolienarity between trip distance and fare amount. This result is understandable because there will be strong correlation between trip distance and fare amount. The longer of distance, the cost will be higher. But using tree type of classification, the impact of multicollinearity can be minimized."
   ]
  },
  {
   "cell_type": "markdown",
   "id": "55097b24-4f96-42d3-b9fd-8e7de2528223",
   "metadata": {},
   "source": [
    "## Step 8: Check the Balance of Target Dataset\n",
    "This step is really important because imbalance target will give the classification method a chance to predicts the majority. This bias will suffer the minority but the accuracy will be remain high.  "
   ]
  },
  {
   "cell_type": "code",
   "execution_count": 19,
   "id": "cf16d475-524d-4010-bfc5-4253637d4837",
   "metadata": {},
   "outputs": [
    {
     "data": {
      "text/html": [
       "<div><style>\n",
       ".dataframe > thead > tr,\n",
       ".dataframe > tbody > tr {\n",
       "  text-align: right;\n",
       "  white-space: pre-wrap;\n",
       "}\n",
       "</style>\n",
       "<small>shape: (2, 2)</small><table border=\"1\" class=\"dataframe\"><thead><tr><th>tip_category</th><th>count</th></tr><tr><td>i32</td><td>u32</td></tr></thead><tbody><tr><td>1</td><td>92216</td></tr><tr><td>0</td><td>2932436</td></tr></tbody></table></div>"
      ],
      "text/plain": [
       "shape: (2, 2)\n",
       "┌──────────────┬─────────┐\n",
       "│ tip_category ┆ count   │\n",
       "│ ---          ┆ ---     │\n",
       "│ i32          ┆ u32     │\n",
       "╞══════════════╪═════════╡\n",
       "│ 1            ┆ 92216   │\n",
       "│ 0            ┆ 2932436 │\n",
       "└──────────────┴─────────┘"
      ]
     },
     "execution_count": 19,
     "metadata": {},
     "output_type": "execute_result"
    }
   ],
   "source": [
    "data_jan_2009[\"tip_category\"].value_counts()"
   ]
  },
  {
   "cell_type": "markdown",
   "id": "0f2ee113-5008-4e38-a32d-c0b3f1650ecc",
   "metadata": {},
   "source": [
    "There is an imbalance dataset. The solution is by balancing the dataset with SMOTE. It will be included in the data pipeline."
   ]
  },
  {
   "cell_type": "markdown",
   "id": "c2673bb0-ec57-45d0-8b80-0609e6723c59",
   "metadata": {},
   "source": [
    "## Step 9: Select Features as Predictors and Target. Then Convert to Numpy."
   ]
  },
  {
   "cell_type": "code",
   "execution_count": 20,
   "id": "a57cb5dc-f328-4fd1-8317-551b2633c279",
   "metadata": {},
   "outputs": [],
   "source": [
    "y = data_jan_2009.select('tip_category').to_numpy().ravel().astype(int)\n",
    "X = data_jan_2009.drop(['tip_category']).to_numpy()\n"
   ]
  },
  {
   "cell_type": "markdown",
   "id": "9e4abeb5-035a-4611-988d-8e9c50e055f5",
   "metadata": {},
   "source": [
    "## Step 10: Split Data into Train and Test"
   ]
  },
  {
   "cell_type": "code",
   "execution_count": 21,
   "id": "657ac8cb-1a3a-474f-b54d-3971ac61d39e",
   "metadata": {},
   "outputs": [],
   "source": [
    "from sklearn.model_selection import train_test_split\n",
    "\n",
    "X_train, X_test, y_train, y_test = train_test_split(\n",
    "    X, y, test_size=0.3, stratify=y, random_state=42\n",
    ")"
   ]
  },
  {
   "cell_type": "markdown",
   "id": "4f673e49-cab1-476c-a554-e2103ea3f3ed",
   "metadata": {},
   "source": [
    "## Step 11: Create Data Pipeline with Logistic Regression"
   ]
  },
  {
   "cell_type": "code",
   "execution_count": 22,
   "id": "f530ea0f-c378-4d6d-90da-71a6ea65166c",
   "metadata": {},
   "outputs": [],
   "source": [
    "import matplotlib.pyplot as plt\n",
    "from sklearn.datasets import make_classification\n",
    "from sklearn.model_selection import train_test_split\n",
    "from sklearn.preprocessing import StandardScaler\n",
    "from sklearn.linear_model import LogisticRegression\n",
    "from sklearn.metrics import confusion_matrix, ConfusionMatrixDisplay, roc_curve, auc, RocCurveDisplay\n",
    "from imblearn.over_sampling import SMOTE\n",
    "from imblearn.pipeline import Pipeline\n",
    "import numpy as np\n",
    "\n",
    "# Build the pipeline\n",
    "pipeline_lr = Pipeline(steps=[\n",
    "    ('smote', SMOTE(random_state=42)),\n",
    "    ('scaler', StandardScaler()),\n",
    "    ('logreg', LogisticRegression())\n",
    "])\n",
    "\n",
    "# Train model\n",
    "pipeline_lr.fit(X_train, y_train)\n",
    "\n",
    "# Predictions\n",
    "y_pred = pipeline_lr.predict(X_test)\n",
    "y_score = pipeline_lr.predict_proba(X_test)\n"
   ]
  },
  {
   "cell_type": "markdown",
   "id": "a4aadd09-96f9-4100-a6b9-58eec03e29d2",
   "metadata": {},
   "source": [
    "## Step 12: Confusion Matrix"
   ]
  },
  {
   "cell_type": "code",
   "execution_count": 23,
   "id": "9641f228-f6ae-407d-844a-36127eafbc2a",
   "metadata": {},
   "outputs": [
    {
     "data": {
      "image/png": "[encoded data removed]",
      "text/plain": [
       "<Figure size 640x480 with 2 Axes>"
      ]
     },
     "metadata": {},
     "output_type": "display_data"
    }
   ],
   "source": [
    "# Confusion Matrix\n",
    "cm = confusion_matrix(y_test, y_pred)\n",
    "disp = ConfusionMatrixDisplay(confusion_matrix=cm)\n",
    "disp.plot(cmap='Blues')\n",
    "plt.title(\"Confusion Matrix\")\n",
    "plt.show()"
   ]
  },
  {
   "cell_type": "markdown",
   "id": "69c3d036-14b8-4fc7-98e1-5879bcfd8171",
   "metadata": {},
   "source": [
    "## Step 13: ROC Curve"
   ]
  },
  {
   "cell_type": "code",
   "execution_count": 24,
   "id": "9d04f11a-6bbf-41cb-9912-8701e8021a43",
   "metadata": {},
   "outputs": [
    {
     "data": {
      "image/png": "[encoded data removed]",
      "text/plain": [
       "<Figure size 640x480 with 1 Axes>"
      ]
     },
     "metadata": {},
     "output_type": "display_data"
    }
   ],
   "source": [
    "# ROC Curve (handles binary or multiclass automatically)\n",
    "n_classes = len(np.unique(y))\n",
    "if n_classes == 2:\n",
    "    fpr, tpr, _ = roc_curve(y_test, y_score[:,1])\n",
    "    roc_auc = auc(fpr, tpr)\n",
    "    RocCurveDisplay(fpr=fpr, tpr=tpr, roc_auc=roc_auc).plot()\n",
    "    plt.title(\"ROC Curve (Binary)\")\n",
    "    plt.show()\n",
    "else:\n",
    "    # For multiclass: one-vs-rest ROC curves\n",
    "    from sklearn.preprocessing import label_binarize\n",
    "    y_test_bin = label_binarize(y_test, classes=np.arange(n_classes))\n",
    "    for i in range(n_classes):\n",
    "        fpr, tpr, _ = roc_curve(y_test_bin[:, i], y_score[:, i])\n",
    "        roc_auc = auc(fpr, tpr)\n",
    "        plt.plot(fpr, tpr, label=f\"Class {i} (AUC={roc_auc:.2f})\")\n",
    "    plt.plot([0, 1], [0, 1], 'k--')\n",
    "    plt.xlabel(\"False Positive Rate\")\n",
    "    plt.ylabel(\"True Positive Rate\")\n",
    "    plt.title(\"ROC Curve (Multiclass One-vs-Rest)\")\n",
    "    plt.legend()\n",
    "    plt.show()"
   ]
  },
  {
   "cell_type": "code",
   "execution_count": null,
   "id": "fb0506e4-ba2b-4c6a-87eb-520b3e0e902e",
   "metadata": {},
   "outputs": [],
   "source": []
  }
 ],
 "metadata": {
  "kernelspec": {
   "display_name": "Python 3 (ipykernel)",
   "language": "python",
   "name": "python3"
  },
  "language_info": {
   "codemirror_mode": {
    "name": "ipython",
    "version": 3
   },
   "file_extension": ".py",
   "mimetype": "text/x-python",
   "name": "python",
   "nbconvert_exporter": "python",
   "pygments_lexer": "ipython3",
   "version": "3.12.11"
  }
 },
 "nbformat": 4,
 "nbformat_minor": 5
}
