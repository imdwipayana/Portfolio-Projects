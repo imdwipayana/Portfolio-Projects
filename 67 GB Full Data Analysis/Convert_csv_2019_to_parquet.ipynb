{
 "cells": [
  {
   "cell_type": "code",
   "execution_count": 2,
   "id": "e264e77e-f2f1-49cb-967b-685ad0600824",
   "metadata": {},
   "outputs": [
    {
     "name": "stdout",
     "output_type": "stream",
     "text": [
      "Converted: C:\\Users\\ekadw\\Documents\\DATA\\NY_Taxi\\2019\\yellow_taxi\\yellow_tripdata_2019-02.csv -> C:\\Users\\ekadw\\Documents\\DATA\\NY_Taxi\\2019\\yellow_taxi\\yellow_tripdata_2019-02.parquet\n",
      "Deleted original CSV: C:\\Users\\ekadw\\Documents\\DATA\\NY_Taxi\\2019\\yellow_taxi\\yellow_tripdata_2019-02.csv\n",
      "Converted: C:\\Users\\ekadw\\Documents\\DATA\\NY_Taxi\\2019\\yellow_taxi\\yellow_tripdata_2019-03.csv -> C:\\Users\\ekadw\\Documents\\DATA\\NY_Taxi\\2019\\yellow_taxi\\yellow_tripdata_2019-03.parquet\n",
      "Deleted original CSV: C:\\Users\\ekadw\\Documents\\DATA\\NY_Taxi\\2019\\yellow_taxi\\yellow_tripdata_2019-03.csv\n",
      "Converted: C:\\Users\\ekadw\\Documents\\DATA\\NY_Taxi\\2019\\yellow_taxi\\yellow_tripdata_2019-04.csv -> C:\\Users\\ekadw\\Documents\\DATA\\NY_Taxi\\2019\\yellow_taxi\\yellow_tripdata_2019-04.parquet\n",
      "Deleted original CSV: C:\\Users\\ekadw\\Documents\\DATA\\NY_Taxi\\2019\\yellow_taxi\\yellow_tripdata_2019-04.csv\n",
      "Converted: C:\\Users\\ekadw\\Documents\\DATA\\NY_Taxi\\2019\\yellow_taxi\\yellow_tripdata_2019-05.csv -> C:\\Users\\ekadw\\Documents\\DATA\\NY_Taxi\\2019\\yellow_taxi\\yellow_tripdata_2019-05.parquet\n",
      "Deleted original CSV: C:\\Users\\ekadw\\Documents\\DATA\\NY_Taxi\\2019\\yellow_taxi\\yellow_tripdata_2019-05.csv\n",
      "Converted: C:\\Users\\ekadw\\Documents\\DATA\\NY_Taxi\\2019\\yellow_taxi\\yellow_tripdata_2019-06.csv -> C:\\Users\\ekadw\\Documents\\DATA\\NY_Taxi\\2019\\yellow_taxi\\yellow_tripdata_2019-06.parquet\n",
      "Deleted original CSV: C:\\Users\\ekadw\\Documents\\DATA\\NY_Taxi\\2019\\yellow_taxi\\yellow_tripdata_2019-06.csv\n",
      "Converted: C:\\Users\\ekadw\\Documents\\DATA\\NY_Taxi\\2019\\yellow_taxi\\yellow_tripdata_2019-07.csv -> C:\\Users\\ekadw\\Documents\\DATA\\NY_Taxi\\2019\\yellow_taxi\\yellow_tripdata_2019-07.parquet\n",
      "Deleted original CSV: C:\\Users\\ekadw\\Documents\\DATA\\NY_Taxi\\2019\\yellow_taxi\\yellow_tripdata_2019-07.csv\n",
      "Converted: C:\\Users\\ekadw\\Documents\\DATA\\NY_Taxi\\2019\\yellow_taxi\\yellow_tripdata_2019-08.csv -> C:\\Users\\ekadw\\Documents\\DATA\\NY_Taxi\\2019\\yellow_taxi\\yellow_tripdata_2019-08.parquet\n",
      "Deleted original CSV: C:\\Users\\ekadw\\Documents\\DATA\\NY_Taxi\\2019\\yellow_taxi\\yellow_tripdata_2019-08.csv\n",
      "Converted: C:\\Users\\ekadw\\Documents\\DATA\\NY_Taxi\\2019\\yellow_taxi\\yellow_tripdata_2019-09.csv -> C:\\Users\\ekadw\\Documents\\DATA\\NY_Taxi\\2019\\yellow_taxi\\yellow_tripdata_2019-09.parquet\n",
      "Deleted original CSV: C:\\Users\\ekadw\\Documents\\DATA\\NY_Taxi\\2019\\yellow_taxi\\yellow_tripdata_2019-09.csv\n",
      "Converted: C:\\Users\\ekadw\\Documents\\DATA\\NY_Taxi\\2019\\yellow_taxi\\yellow_tripdata_2019-10.csv -> C:\\Users\\ekadw\\Documents\\DATA\\NY_Taxi\\2019\\yellow_taxi\\yellow_tripdata_2019-10.parquet\n",
      "Deleted original CSV: C:\\Users\\ekadw\\Documents\\DATA\\NY_Taxi\\2019\\yellow_taxi\\yellow_tripdata_2019-10.csv\n",
      "Converted: C:\\Users\\ekadw\\Documents\\DATA\\NY_Taxi\\2019\\yellow_taxi\\yellow_tripdata_2019-11.csv -> C:\\Users\\ekadw\\Documents\\DATA\\NY_Taxi\\2019\\yellow_taxi\\yellow_tripdata_2019-11.parquet\n",
      "Deleted original CSV: C:\\Users\\ekadw\\Documents\\DATA\\NY_Taxi\\2019\\yellow_taxi\\yellow_tripdata_2019-11.csv\n",
      "Converted: C:\\Users\\ekadw\\Documents\\DATA\\NY_Taxi\\2019\\yellow_taxi\\yellow_tripdata_2019-12.csv -> C:\\Users\\ekadw\\Documents\\DATA\\NY_Taxi\\2019\\yellow_taxi\\yellow_tripdata_2019-12.parquet\n",
      "Deleted original CSV: C:\\Users\\ekadw\\Documents\\DATA\\NY_Taxi\\2019\\yellow_taxi\\yellow_tripdata_2019-12.csv\n"
     ]
    }
   ],
   "source": [
    "import polars as pl\n",
    "import glob\n",
    "import os\n",
    "\n",
    "# Search recursively for all CSV files in the root folder\n",
    "root_folder = r\"C:\\Users\\ekadw\\Documents\\DATA\\NY_Taxi\\2019\\yellow_taxi\"\n",
    "csv_files = glob.glob(os.path.join(root_folder, \"**\", \"*.csv\"), recursive=True)\n",
    "\n",
    "for csv_file in csv_files:\n",
    "    # Read CSV into Polars DataFrame\n",
    "    df = pl.read_csv(csv_file, schema_overrides={\"congestion_surcharge\": pl.Float64})\n",
    "    \n",
    "    # Build parquet file path in the same folder as CSV\n",
    "    base_name = os.path.splitext(csv_file)[0]   # removes .csv extension\n",
    "    parquet_file = f\"{base_name}.parquet\"\n",
    "    \n",
    "    # Write to parquet\n",
    "    df.write_parquet(parquet_file)\n",
    "    print(f\"Converted: {csv_file} -> {parquet_file}\")\n",
    "    \n",
    "    # Delete the original CSV file\n",
    "    os.remove(csv_file)\n",
    "    print(f\"Deleted original CSV: {csv_file}\")\n"
   ]
  },
  {
   "cell_type": "code",
   "execution_count": null,
   "id": "8d64f53c-243b-4626-afb0-54fbc5789e00",
   "metadata": {},
   "outputs": [],
   "source": []
  }
 ],
 "metadata": {
  "kernelspec": {
   "display_name": "Python 3 (ipykernel)",
   "language": "python",
   "name": "python3"
  },
  "language_info": {
   "codemirror_mode": {
    "name": "ipython",
    "version": 3
   },
   "file_extension": ".py",
   "mimetype": "text/x-python",
   "name": "python",
   "nbconvert_exporter": "python",
   "pygments_lexer": "ipython3",
   "version": "3.12.11"
  }
 },
 "nbformat": 4,
 "nbformat_minor": 5
}
